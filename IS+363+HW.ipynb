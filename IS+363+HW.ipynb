{
 "cells": [
  {
   "cell_type": "markdown",
   "metadata": {},
   "source": [
    "# Target users of www.nytimes.com\n",
    " The NY Times is targeted for residents of the New York metropolitan area, with stories of particular interest there. The range of vaocabulary used in the YY times suggests a deliberate appeal to a college educated and affluent audience. THe newspapaer has a signficant international appaeal and reaches a significant foreign readership (400,000 readers in Europe and Asia). Apart from reachinng a college educated audience the newppapaer an is highly appealing to businessmen who can find information about globlal and local trends that can affect their business.  Those looking to make high priced purchases such a sreal estste and designer clothing need to look no furthur as this newspaper provides all aof these. People with specific interests in Arts and Science can also find helpful resources there.  "
   ]
  },
  {
   "cell_type": "markdown",
   "metadata": {},
   "source": [
    "# Key Goals of users\n",
    " The main goal of  the newspaper is to inform its users about current events both local and global. Among the current events politics, finance and social issues are among the top range of topics covered. Readers  want to have the facts before they come to conclusions  about the pertinent issues around them. The newspapaer both print and digital offers a form of plethora of well researched articles that readers can use to get a more accurate understanding of the hapenings of New York City.  "
   ]
  },
  {
   "cell_type": "markdown",
   "metadata": {
    "collapsed": true
   },
   "source": [
    "# How can the NY times be helped to ensure that users remain satisfied with the system?\n",
    "With the advent of technology and highly complex algorithims, the NYTimes can use highly accurate algorithims to track the reading habits of users and send articles that are in line with their preferences.  With the use of key words  that appear in articles website managers can cause specific articles to be sent to a users' computer interface. In other words two users may not be seeing the same articles on the website if they have very different reading intetersts. Three key goals exist which govern how the NYTimes;\n",
    "- How to model an article based on its text.\n",
    "- How to update the model based on audience reading patterns.\n",
    "- How to describe readers based on their reading history.\n",
    " "
   ]
  },
  {
   "cell_type": "markdown",
   "metadata": {},
   "source": [
    "# Revere Engineering the Process\n",
    "If the NY Times were to first adjust the content of the newspaper to target a more diverse audience befor applying algorithims, then the process of gathering information from algorithms becomes more of a test of how successful the process is. This is because the varied search terms are now more than the usual streamlined content and shows the efficiency of the algorithms. "
   ]
  },
  {
   "cell_type": "code",
   "execution_count": null,
   "metadata": {
    "collapsed": true
   },
   "outputs": [],
   "source": []
  }
 ],
 "metadata": {
  "kernelspec": {
   "display_name": "Python 3",
   "language": "python",
   "name": "python3"
  },
  "language_info": {
   "codemirror_mode": {
    "name": "ipython",
    "version": 3
   },
   "file_extension": ".py",
   "mimetype": "text/x-python",
   "name": "python",
   "nbconvert_exporter": "python",
   "pygments_lexer": "ipython3",
   "version": "3.6.0"
  }
 },
 "nbformat": 4,
 "nbformat_minor": 2
}
